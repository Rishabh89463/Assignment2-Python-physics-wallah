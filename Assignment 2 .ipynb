{
 "cells": [
  {
   "cell_type": "code",
   "execution_count": 1,
   "id": "e8a7b130-36b1-40b8-a2f0-da2d4577778d",
   "metadata": {},
   "outputs": [],
   "source": [
    "#1.What are the two values of the Boolean data type? How do you write them?"
   ]
  },
  {
   "cell_type": "code",
   "execution_count": null,
   "id": "fb8db184-d3f2-4503-9479-73005d30fb2a",
   "metadata": {},
   "outputs": [],
   "source": [
    "# The two values of the Boolean data type are:\n",
    "\n",
    "# True: Written as True (with an uppercase 'T').\n",
    "# False: Written as False (with an uppercase 'F')."
   ]
  },
  {
   "cell_type": "code",
   "execution_count": null,
   "id": "c84d39ee-b699-4fba-86fe-4ad211a84feb",
   "metadata": {},
   "outputs": [],
   "source": [
    "# 3. Make a list of each Boolean operator&#39;s truth tables (i.e. every possible combination of Boolean\n",
    "# values for the operator and what it evaluate ).\n",
    "\n",
    "\n",
    "# Here are the truth tables for the three main Boolean operators: AND, OR, and NOT.\n",
    "\n",
    "# AND ( and )\n",
    "# The and operator returns True only if both operands are True.\n",
    "\n",
    "# A\tB\tA and B\n",
    "# True\tTrue\tTrue\n",
    "# True\tFalse\tFalse\n",
    "# False\tTrue\tFalse\n",
    "# False\tFalse\tFalse\n",
    "# OR ( or )\n",
    "# The or operator returns True if at least one of the operands is True.\n",
    "\n",
    "# A\tB\tA or B\n",
    "# True\tTrue\tTrue\n",
    "# True\tFalse\tTrue\n",
    "# False\tTrue\tTrue\n",
    "# False\tFalse\tFalse\n",
    "# NOT ( not )\n",
    "# The not operator returns True if the operand is False, and False if the operand is True.\n",
    "\n",
    "# A\tnot A\n",
    "# True\tFalse\n",
    "# False\tTrue"
   ]
  },
  {
   "cell_type": "code",
   "execution_count": null,
   "id": "f2944c07-5b16-40e6-8cd9-895808f23db0",
   "metadata": {},
   "outputs": [],
   "source": [
    "# 4. What are the values of the following expressions?\n",
    "# (5 &gt; 4) and (3 == 5)\n",
    "# not (5 &gt; 4)\n",
    "# (5 &gt; 4) or (3 == 5)\n",
    "# not ((5 &gt; 4) or (3 == 5))\n",
    "# (True and True) and (True == False)\n",
    "# (not False) or (not True)"
   ]
  },
  {
   "cell_type": "code",
   "execution_count": null,
   "id": "14c0c32d-ab01-44bf-86a5-f7e3da675792",
   "metadata": {},
   "outputs": [],
   "source": [
    "# Here are the values of the given expressions:\n",
    "\n",
    "# (5 > 4) and (3 == 5)\n",
    "\n",
    "# (5 > 4) is True\n",
    "# (3 == 5) is False\n",
    "# True and False is False\n",
    "# Result: False\n",
    "\n",
    "# not (5 > 4)\n",
    "\n",
    "# (5 > 4) is True\n",
    "# not True is False\n",
    "# Result: False\n",
    "\n",
    "# (5 > 4) or (3 == 5)\n",
    "\n",
    "# (5 > 4) is True\n",
    "# (3 == 5) is False\n",
    "# True or False is True\n",
    "# Result: True\n",
    "\n",
    "# not ((5 > 4) or (3 == 5))\n",
    "\n",
    "# (5 > 4) is True\n",
    "# (3 == 5) is False\n",
    "# (True or False) is True\n",
    "# not True is False\n",
    "# Result: False\n",
    "\n",
    "# (True and True) and (True == False)\n",
    "\n",
    "# True and True is True\n",
    "# (True == False) is False\n",
    "# True and False is False\n",
    "# Result: False\n",
    "\n",
    "# (not False) or (not True)\n",
    "\n",
    "# not False is True\n",
    "# not True is False\n",
    "# True or False is True\n",
    "# Result: True"
   ]
  },
  {
   "cell_type": "code",
   "execution_count": null,
   "id": "52872858-6241-4c06-a89c-e08ab7cc67ad",
   "metadata": {},
   "outputs": [],
   "source": [
    "# The six comparison operators in Python are:\n",
    "\n",
    "# Equal to: ==\n",
    "\n",
    "# Example: 5 == 5 evaluates to True\n",
    "# Not equal to: !=\n",
    "\n",
    "# Example: 5 != 3 evaluates to True\n",
    "# Greater than: >\n",
    "\n",
    "# Example: 5 > 3 evaluates to True\n",
    "# Less than: <\n",
    "\n",
    "# Example: 3 < 5 evaluates to True\n",
    "# Greater than or equal to: >=\n",
    "\n",
    "# Example: 5 >= 5 evaluates to True\n",
    "# Less than or equal to: <=\n",
    "\n",
    "# Example: 3 <= 5 evaluates to True"
   ]
  },
  {
   "cell_type": "code",
   "execution_count": null,
   "id": "d115013c-09fe-4991-b7d2-a11bc4d1284c",
   "metadata": {},
   "outputs": [],
   "source": [
    "# The equal to (==) and assignment (=) operators serve different purposes and are used in distinct contexts:\n",
    "\n",
    "# Equal to (==):\n",
    "\n",
    "# This is a comparison operator used to check if two values are equal. It evaluates to True if the values are the same and False otherwise.\n",
    "# Example: In a conditional statement to check if a variable's value matches a specific value.\n",
    " \n",
    "score = 100\n",
    "if score == 100:\n",
    "    print(\"Perfect score!\")\n",
    "\n",
    "# Here, == checks if the value of score is equal to 100.\n",
    "\n",
    "# Assignment (=):\n",
    "\n",
    "# This is an assignment operator used to assign a value to a variable.\n",
    "# Example: To assign a value to a variable    \n",
    "\n",
    "# score = 100\n",
    "\n",
    "# Example Scenario:\n",
    "# Suppose you have a variable temperature and you want to check if it equals 75 degrees, and if not, set it to 75.\n",
    "\n",
    "# Assignment (=): Assigns a value to temperature.\n",
    "\n",
    "temperature = 75  # This assigns the value 75 to the variable temperature\n",
    "\n",
    "if temperature == 75:  # This checks if the value of temperature is equal to 75\n",
    "    print(\"The temperature is 75 degrees.\")\n",
    "\n",
    "# In summary, use = when you need to assign a value to a variable, and use == when you need to compare two values for equality."
   ]
  },
  {
   "cell_type": "code",
   "execution_count": 12,
   "id": "df6ec33b-5a77-401e-a7e5-494ac106e0f7",
   "metadata": {},
   "outputs": [
    {
     "name": "stdout",
     "output_type": "stream",
     "text": [
      "eggs\n",
      "bacon\n"
     ]
    }
   ],
   "source": [
    "# 7. Identify the three blocks in this code\n",
    "\n",
    "# spam = 0\n",
    "\n",
    "# if spam == 10:\n",
    "#     print('eggs')\n",
    "\n",
    "# if spam > 5:\n",
    "#     print('bacon')\n",
    "# else:\n",
    "#     print('ham')\n",
    "\n",
    "# print('spam')\n",
    "# print('spam')\n",
    "\n",
    "#Block 1\n",
    "spam = 10\n",
    "if spam == 10:\n",
    "    print('eggs')\n",
    "\n",
    "#Block 2\n",
    "\n",
    "if spam > 5:\n",
    "    print('bacon')\n",
    "\n",
    "#block 3\n",
    "\n",
    "else:\n",
    "    print('ham')\n"
   ]
  },
  {
   "cell_type": "code",
   "execution_count": 13,
   "id": "fe5cb28a-2d4f-4035-9ed7-7050ef8ea8e7",
   "metadata": {},
   "outputs": [],
   "source": [
    "# 8. Write code that prints Hello if 1 is stored in spam, prints Howdy if 2 is stored in spam, and prints\n",
    "# Greetings! if anything else is stored in spam."
   ]
  },
  {
   "cell_type": "code",
   "execution_count": 14,
   "id": "d8fbaf0b-d174-471f-9482-b50681a60b54",
   "metadata": {},
   "outputs": [
    {
     "name": "stdin",
     "output_type": "stream",
     "text": [
      "Enter a value for spam:  2\n"
     ]
    },
    {
     "name": "stdout",
     "output_type": "stream",
     "text": [
      "Howdy\n"
     ]
    }
   ],
   "source": [
    "spam = int(input(\"Enter a value for spam: \"))\n",
    "\n",
    "if spam == 1:\n",
    "    print(\"Hello\")\n",
    "elif spam == 2:\n",
    "    print(\"Howdy\")\n",
    "else:\n",
    "    print(\"Greetings!\")\n"
   ]
  },
  {
   "cell_type": "code",
   "execution_count": 15,
   "id": "57b72954-765f-494e-b502-c2d4dce2e803",
   "metadata": {},
   "outputs": [],
   "source": [
    "# 9.If your programme is stuck in an endless loop, what keys you’ll press?"
   ]
  },
  {
   "cell_type": "code",
   "execution_count": 16,
   "id": "ba9c5961-ec98-4bb4-a0be-783522cc9929",
   "metadata": {},
   "outputs": [],
   "source": [
    "# Ans = ctrl + c"
   ]
  },
  {
   "cell_type": "code",
   "execution_count": 17,
   "id": "f668a71c-75db-4be4-af3e-bed8a18b474c",
   "metadata": {},
   "outputs": [],
   "source": [
    "# 10. How can you tell the difference between break and continue?"
   ]
  },
  {
   "cell_type": "code",
   "execution_count": 2,
   "id": "fded7b50-4d79-4f9c-bc37-f2ca6dcbf584",
   "metadata": {},
   "outputs": [
    {
     "name": "stdout",
     "output_type": "stream",
     "text": [
      "0\n",
      "1\n",
      "2\n",
      "3\n",
      "4\n",
      "0\n",
      "1\n",
      "2\n",
      "3\n",
      "4\n",
      "6\n",
      "7\n",
      "8\n",
      "9\n"
     ]
    }
   ],
   "source": [
    "# The break and continue statements are used to alter the flow of loops, but they function differently:\n",
    "\n",
    "# break:\n",
    "\n",
    "# Exits the nearest enclosing loop immediately.\n",
    "# The loop stops running and control moves to the statement immediately following the loop.\n",
    "# Useful for terminating a loop early based on a certain condition.\n",
    "\n",
    "for i in range(10):\n",
    "    if i == 5:\n",
    "        break\n",
    "    print(i)\n",
    "# Output: 0 1 2 3 4\n",
    "\n",
    "# In this example, the loop stops when i equals 5.\n",
    "\n",
    "# continue:\n",
    "\n",
    "# Skips the rest of the code inside the current loop iteration and proceeds to the next iteration of the loop.\n",
    "# Useful for skipping specific iterations based on a certain condition without exiting the loop entirely.\n",
    "\n",
    "for i in range(10):\n",
    "    if i == 5:\n",
    "        continue\n",
    "    print(i)\n",
    "# Output: 0 1 2 3 4 6 7 8 9\n",
    "\n",
    "# In this example, the loop skips the iteration when i equals 5 but continues with the next iterations.\n",
    "\n",
    "# In summary:\n",
    "\n",
    "# break exits the loop entirely.\n",
    "# continue skips the current iteration and continues with the next iteration."
   ]
  },
  {
   "cell_type": "code",
   "execution_count": 3,
   "id": "e62233b4-406d-4d82-a750-994b2496e595",
   "metadata": {},
   "outputs": [],
   "source": [
    "# 11. In a for loop, what is the difference between range(10), range(0, 10), and range(0, 10, 1)?"
   ]
  },
  {
   "cell_type": "code",
   "execution_count": 4,
   "id": "b8ace135-8224-468c-8951-db4a0130fd82",
   "metadata": {},
   "outputs": [
    {
     "name": "stdout",
     "output_type": "stream",
     "text": [
      "0\n",
      "1\n",
      "2\n",
      "3\n",
      "4\n",
      "5\n",
      "6\n",
      "7\n",
      "8\n",
      "9\n",
      "0\n",
      "1\n",
      "2\n",
      "3\n",
      "4\n",
      "5\n",
      "6\n",
      "7\n",
      "8\n",
      "9\n",
      "0\n",
      "1\n",
      "2\n",
      "3\n",
      "4\n",
      "5\n",
      "6\n",
      "7\n",
      "8\n",
      "9\n"
     ]
    }
   ],
   "source": [
    "# The functions range(10), range(0, 10), and range(0, 10, 1) in a for loop essentially produce the same sequence of numbers, but they are written with different levels of explicitness. Here's the difference:\n",
    "\n",
    "# range(10):\n",
    "\n",
    "# Starts at 0 (default start value).\n",
    "# Ends at 10 (non-inclusive).\n",
    "# Steps by 1 (default step value).\n",
    "# Produces: 0, 1, 2, 3, 4, 5, 6, 7, 8, 9.\n",
    "\n",
    "for i in range(10):\n",
    "    print(i)\n",
    "\n",
    "# range(0, 10):\n",
    "\n",
    "# Starts explicitly at 0.\n",
    "# Ends at 10 (non-inclusive).\n",
    "# Steps by 1 (default step value).\n",
    "# Produces: 0, 1, 2, 3, 4, 5, 6, 7, 8, 9.\n",
    "\n",
    "for i in range(0, 10):\n",
    "    print(i)\n",
    "\n",
    "# range(0, 10, 1):\n",
    "\n",
    "# Starts explicitly at 0.\n",
    "# Ends at 10 (non-inclusive).\n",
    "# Steps explicitly by 1.\n",
    "# Produces: 0, 1, 2, 3, 4, 5, 6, 7, 8, 9\n",
    "\n",
    "for i in range(0, 10, 1):\n",
    "    print(i)\n"
   ]
  },
  {
   "cell_type": "code",
   "execution_count": 6,
   "id": "00698fb7-04e0-43e3-a464-a7a34372fb89",
   "metadata": {},
   "outputs": [],
   "source": [
    "# 12. Write a short program that prints the numbers 1 to 10 using a for loop. Then write an equivalent\n",
    "# program that prints the numbers 1 to 10 using a while loop."
   ]
  },
  {
   "cell_type": "code",
   "execution_count": 9,
   "id": "1a29c76f-bfa5-48fa-acfa-c16fa2baf2b1",
   "metadata": {},
   "outputs": [
    {
     "name": "stdout",
     "output_type": "stream",
     "text": [
      "1\n",
      "2\n",
      "3\n",
      "4\n",
      "5\n",
      "6\n",
      "7\n",
      "8\n",
      "9\n",
      "10\n",
      "1\n",
      "2\n",
      "3\n",
      "4\n",
      "5\n",
      "6\n",
      "7\n",
      "8\n",
      "9\n",
      "10\n"
     ]
    }
   ],
   "source": [
    "# Here are two short programs that print the numbers 1 to 10, one using a for loop and the other using a while loop:\n",
    "\n",
    "# Using a for Loop:\n",
    "\n",
    "for i in range(1, 11):\n",
    "    print(i)\n",
    "\n",
    "#|using a while loop\n",
    "\n",
    "i = 1\n",
    "while i <= 10:\n",
    "    print(i)\n",
    "    i += 1\n"
   ]
  },
  {
   "cell_type": "code",
   "execution_count": 10,
   "id": "087a753a-daf2-4f9d-87ea-c76dfc4ff7dc",
   "metadata": {},
   "outputs": [],
   "source": [
    "# 13. If you had a function named bacon() inside a module named spam, how would you call it after\n",
    "# importing spam?"
   ]
  },
  {
   "cell_type": "code",
   "execution_count": 11,
   "id": "85b012ae-acd4-40e4-a1cc-2bcbed5f0a3c",
   "metadata": {},
   "outputs": [
    {
     "ename": "ModuleNotFoundError",
     "evalue": "No module named 'spam'",
     "output_type": "error",
     "traceback": [
      "\u001b[0;31m---------------------------------------------------------------------------\u001b[0m",
      "\u001b[0;31mModuleNotFoundError\u001b[0m                       Traceback (most recent call last)",
      "Cell \u001b[0;32mIn[11], line 1\u001b[0m\n\u001b[0;32m----> 1\u001b[0m \u001b[38;5;28;01mimport\u001b[39;00m \u001b[38;5;21;01mspam\u001b[39;00m\n\u001b[1;32m      3\u001b[0m spam\u001b[38;5;241m.\u001b[39mbacon()\n\u001b[1;32m      5\u001b[0m \u001b[38;5;66;03m# This imports the spam module and then calls the bacon() function defined within that module.\u001b[39;00m\n",
      "\u001b[0;31mModuleNotFoundError\u001b[0m: No module named 'spam'"
     ]
    }
   ],
   "source": [
    "import spam\n",
    "\n",
    "spam.bacon()\n",
    "\n",
    "# This imports the spam module and then calls the bacon() function defined within that module."
   ]
  },
  {
   "cell_type": "code",
   "execution_count": null,
   "id": "c3e03950-af67-4154-b387-82a989537a5d",
   "metadata": {},
   "outputs": [],
   "source": []
  }
 ],
 "metadata": {
  "kernelspec": {
   "display_name": "Python 3 (ipykernel)",
   "language": "python",
   "name": "python3"
  },
  "language_info": {
   "codemirror_mode": {
    "name": "ipython",
    "version": 3
   },
   "file_extension": ".py",
   "mimetype": "text/x-python",
   "name": "python",
   "nbconvert_exporter": "python",
   "pygments_lexer": "ipython3",
   "version": "3.10.8"
  }
 },
 "nbformat": 4,
 "nbformat_minor": 5
}
